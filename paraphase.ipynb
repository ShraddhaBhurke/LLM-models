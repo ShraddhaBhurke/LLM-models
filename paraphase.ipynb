{
 "cells": [
  {
   "cell_type": "code",
   "execution_count": 1,
   "id": "d7850968",
   "metadata": {},
   "outputs": [
    {
     "name": "stderr",
     "output_type": "stream",
     "text": [
      "C:\\Users\\s.shrikant.bhurke\\Miniconda3\\lib\\site-packages\\tqdm\\auto.py:22: TqdmWarning: IProgress not found. Please update jupyter and ipywidgets. See https://ipywidgets.readthedocs.io/en/stable/user_install.html\n",
      "  from .autonotebook import tqdm as notebook_tqdm\n"
     ]
    }
   ],
   "source": [
    "from transformers import pipeline\n",
    "\n",
    "class QualityControlPipeline:\n",
    "    \n",
    "    def __init__(self, type):\n",
    "        assert type in ['captions', 'questions', 'sentences']\n",
    "        self.pipe = pipeline('text2text-generation', model=f'ibm/qcpg-{type}')\n",
    "        self.ranges = {\n",
    "            'captions': {'lex': [0, 90], 'syn': [0, 80], 'sem': [0, 95]},\n",
    "            'sentences': {'lex': [0, 100], 'syn': [0, 80], 'sem': [0, 95]},\n",
    "            'questions': {'lex': [0, 90], 'syn': [0, 75], 'sem': [0, 95]}\n",
    "        }[type]\n",
    "\n",
    "    def __call__(self, text, lexical, syntactic, semantic, **kwargs):\n",
    "        assert all([0 <= val <= 1 for val in [lexical, syntactic, semantic]]), \\\n",
    "                 f' control values must be between 0 and 1, got {lexical}, {syntactic}, {semantic}'\n",
    "        names = ['semantic_sim', 'lexical_div', 'syntactic_div']\n",
    "        control = [int(5 * round(val * 100 / 5)) for val in [semantic, lexical, syntactic]]\n",
    "        control ={name: max(min(val , self.ranges[name[:3]][1]), self.ranges[name[:3]][0]) for name, val in zip(names, control)}\n",
    "        control = [f'COND_{name.upper()}_{control[name]}' for name in names]\n",
    "        assert all(cond in self.pipe.tokenizer.additional_special_tokens for cond in control)\n",
    "        text = ' '.join(control) + text if isinstance(text, str) else [' '.join(control) for t in text]\n",
    "        return self.pipe(text, **kwargs)"
   ]
  },
  {
   "cell_type": "code",
   "execution_count": 2,
   "id": "66323ced",
   "metadata": {},
   "outputs": [],
   "source": [
    "model = QualityControlPipeline('sentences')"
   ]
  },
  {
   "cell_type": "code",
   "execution_count": 3,
   "id": "8511b591",
   "metadata": {},
   "outputs": [
    {
     "data": {
      "text/plain": [
       "[{'generated_text': \"Is that going to work or what is it we're doing?\"}]"
      ]
     },
     "execution_count": 3,
     "metadata": {},
     "output_type": "execute_result"
    }
   ],
   "source": [
    "model('Is this going to work or what are we doing here?', lexical=0.3, syntactic=0.5, semantic=0.8)"
   ]
  },
  {
   "cell_type": "code",
   "execution_count": 8,
   "id": "df1d2a88",
   "metadata": {},
   "outputs": [
    {
     "data": {
      "text/plain": [
       "[{'generated_text': \"How will things work if you're slow on your own progress?\"}]"
      ]
     },
     "execution_count": 8,
     "metadata": {},
     "output_type": "execute_result"
    }
   ],
   "source": [
    "model('How are the things going to work if your progress is so weak?', lexical=0.3, syntactic=0.5, semantic=0.8)"
   ]
  },
  {
   "cell_type": "code",
   "execution_count": 9,
   "id": "5016f0bd",
   "metadata": {},
   "outputs": [
    {
     "name": "stderr",
     "output_type": "stream",
     "text": [
      "Downloading (…)lve/main/config.json: 100%|█████████████████████████████████████████████████████████████████████████████████████████████| 1.50k/1.50k [00:00<00:00, 131kB/s]\n",
      "Downloading (…)\"pytorch_model.bin\";: 100%|██████████████████████████████████████████████████████████████████████████████████████████████| 892M/892M [03:03<00:00, 4.85MB/s]\n",
      "Downloading (…)okenizer_config.json: 100%|█████████████████████████████████████████████████████████████████████████████████████████████| 1.62k/1.62k [00:00<00:00, 317kB/s]\n",
      "Downloading (…)\"spiece.model\";: 100%|████████████████████████████████████████████████████████████████████████████████████████████████████| 792k/792k [00:01<00:00, 633kB/s]\n",
      "Downloading (…)/main/tokenizer.json: 100%|█████████████████████████████████████████████████████████████████████████████████████████████| 1.39M/1.39M [00:02<00:00, 635kB/s]\n",
      "Downloading (…)in/added_tokens.json: 100%|█████████████████████████████████████████████████████████████████████████████████████████████| 1.70k/1.70k [00:00<00:00, 178kB/s]\n",
      "Downloading (…)cial_tokens_map.json: 100%|█████████████████████████████████████████████████████████████████████████████████████████████| 1.41k/1.41k [00:00<00:00, 175kB/s]\n"
     ]
    }
   ],
   "source": [
    "model = QualityControlPipeline('questions')"
   ]
  },
  {
   "cell_type": "code",
   "execution_count": 11,
   "id": "613efd01",
   "metadata": {},
   "outputs": [
    {
     "data": {
      "text/plain": [
       "[{'generated_text': 'How do you install windows?'}]"
      ]
     },
     "execution_count": 11,
     "metadata": {},
     "output_type": "execute_result"
    }
   ],
   "source": [
    "model('how to install windows?', lexical=0.3, syntactic=0.5, semantic=0.8)"
   ]
  },
  {
   "cell_type": "code",
   "execution_count": null,
   "id": "52f96ba6",
   "metadata": {},
   "outputs": [],
   "source": []
  }
 ],
 "metadata": {
  "kernelspec": {
   "display_name": "Python 3 (ipykernel)",
   "language": "python",
   "name": "python3"
  },
  "language_info": {
   "codemirror_mode": {
    "name": "ipython",
    "version": 3
   },
   "file_extension": ".py",
   "mimetype": "text/x-python",
   "name": "python",
   "nbconvert_exporter": "python",
   "pygments_lexer": "ipython3",
   "version": "3.7.13"
  }
 },
 "nbformat": 4,
 "nbformat_minor": 5
}
